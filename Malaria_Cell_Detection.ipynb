{
  "nbformat": 4,
  "nbformat_minor": 0,
  "metadata": {
    "colab": {
      "name": "Malaria Cell Detection.ipynb",
      "version": "0.3.2",
      "provenance": [],
      "collapsed_sections": [],
      "toc_visible": true,
      "include_colab_link": true
    },
    "kernelspec": {
      "name": "python3",
      "display_name": "Python 3"
    },
    "accelerator": "GPU"
  },
  "cells": [
    {
      "cell_type": "markdown",
      "metadata": {
        "id": "view-in-github",
        "colab_type": "text"
      },
      "source": [
        "<a href=\"https://colab.research.google.com/github/abhinavnagpal/malaria-detection-using-cnns/blob/master/Malaria_Cell_Detection.ipynb\" target=\"_parent\"><img src=\"https://colab.research.google.com/assets/colab-badge.svg\" alt=\"Open In Colab\"/></a>"
      ]
    },
    {
      "metadata": {
        "id": "F4YrDBgT2bPj",
        "colab_type": "text"
      },
      "cell_type": "markdown",
      "source": [
        "# Malaria Detection\n",
        "\n",
        "I have created my own architecture for detecting cells infected with malaria using Fastai library that is built on top of PyTorch. \n",
        "\n",
        "Following are some of the steps to create this classifier: \n",
        "\n",
        "1. Import the data\n",
        "2. Visualize the data\n",
        "3. Preprocess the data\n",
        "4. Divide into train, validation and test\n",
        "5. Create the model and train it\n",
        "6. Validate the model. Perform step 5 and 6  repeatedly till you get model with best validation performance\n",
        "7. Finally test the model\n",
        "\n",
        "---\n",
        "\n",
        "\n",
        "*   Creator: Abhinav Nagpal\n",
        "*   Linkedin: https://www.linkedin.com/in/abhinav-nagpal/\n",
        "*   Github: https://github.com/abhinavnagpal\n",
        "*   Dataset Link: https://www.kaggle.com/iarunava/cell-images-for-detecting-malaria \n",
        "\n",
        "\n",
        "\n",
        "\n"
      ]
    },
    {
      "metadata": {
        "id": "ao1OsaTx3Vxk",
        "colab_type": "code",
        "colab": {}
      },
      "cell_type": "code",
      "source": [
        "%matplotlib inline"
      ],
      "execution_count": 0,
      "outputs": []
    },
    {
      "metadata": {
        "id": "P4EIdkbr2lrU",
        "colab_type": "code",
        "colab": {}
      },
      "cell_type": "code",
      "source": [
        "import numpy as np\n",
        "import pandas as pd\n",
        "import matplotlib.pyplot as plt\n",
        "from fastai.vision import *\n",
        "import gzip\n",
        "import os\n",
        "import cv2"
      ],
      "execution_count": 0,
      "outputs": []
    },
    {
      "metadata": {
        "id": "d9ICfTxuJofe",
        "colab_type": "text"
      },
      "cell_type": "markdown",
      "source": [
        "### Step 1: Importing/Downloading the dataset\n",
        "\n",
        "We can download the kaggle dataset and unzip it using the command line itselt. "
      ]
    },
    {
      "metadata": {
        "id": "s-jc58X5KR7V",
        "colab_type": "code",
        "colab": {}
      },
      "cell_type": "code",
      "source": [
        "# Use this code-block if you are using google colab\n",
        "\n",
        "# import you kaggle api json file\n",
        "from google.colab import files\n",
        "files.upload()\n",
        "\n",
        "# install kaggle\n",
        "!pip3 install kaggle\n",
        "\n",
        "# copy api json file to kaggle folder\n",
        "!!cp kaggle.json ~/.kaggle/\n",
        "\n",
        "# change permissions so that nobody can access your json file\n",
        "!chmod 600 /root/.kaggle/kaggle.json\n",
        "\n",
        "# download and unzip the file\n",
        "!kaggle datasets download -d iarunava/cell-images-for-detecting-malaria\n",
        "\n",
        "# unzip it\n",
        "!unzip cell-images-for-detecting-malaria.zip\n"
      ],
      "execution_count": 0,
      "outputs": []
    },
    {
      "metadata": {
        "id": "v0H6z3YdNlKU",
        "colab_type": "code",
        "colab": {}
      },
      "cell_type": "code",
      "source": [
        "# if you are not using colab \n",
        "\n",
        "# --- START FROM HERE----\n",
        "\n",
        "\n"
      ],
      "execution_count": 0,
      "outputs": []
    }
  ]
}